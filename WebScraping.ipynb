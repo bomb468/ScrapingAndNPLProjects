{
 "cells": [
  {
   "cell_type": "code",
   "execution_count": 1,
   "metadata": {},
   "outputs": [],
   "source": [
    "import requests\n",
    "import bs4"
   ]
  },
  {
   "cell_type": "code",
   "execution_count": 2,
   "metadata": {},
   "outputs": [
    {
     "name": "stdout",
     "output_type": "stream",
     "text": [
      "[['https://en.wikipedia.org/wiki/Bajrangi_Bhaijaan', 'Bajrangi Bhaijaan'], ['https://en.wikipedia.org/wiki/Dilwale_(2015_film)', 'Dilwale'], ['https://en.wikipedia.org/wiki/Prem_Ratan_Dhan_Payo', 'Prem Ratan Dhan Payo'], ['https://en.wikipedia.org/wiki/Bajirao_Mastani', 'Bajirao Mastani'], ['https://en.wikipedia.org/wiki/Tanu_Weds_Manu:_Returns', 'Tanu Weds Manu: Returns'], ['https://en.wikipedia.org/wiki/Welcome_Back_(film)', 'Welcome Back'], ['https://en.wikipedia.org/wiki/ABCD_2', 'ABCD 2'], ['https://en.wikipedia.org/wiki/Dil_Dhadakne_Do', 'Dil Dhadakne Do'], ['https://en.wikipedia.org/wiki/Baby_(2015_Hindi_film)', 'Baby'], ['https://en.wikipedia.org/wiki/Piku', 'Piku']]\n",
      "<a href=\"/wiki/Baby_(2015_Hindi_film)\" title=\"Baby (2015 Hindi film)\">Baby</a>\n"
     ]
    }
   ],
   "source": [
    "url='https://en.wikipedia.org/wiki/List_of_Bollywood_films_of_2015'\n",
    "res=requests.get(url)\n",
    "soup=bs4.BeautifulSoup(res.text,\"html.parser\")\n",
    "item=soup.find(\"div\",{\"id\":\"mw-content-text\"})\n",
    "item=item.div\n",
    "item=item.find(\"table\",{'class':'wikitable'})\n",
    "item=item.find_all(\"tr\")\n",
    "arr=[]\n",
    "for k in range(1,11):\n",
    "    a='https://en.wikipedia.org'+item[k].td.i.a['href']\n",
    "    b=item[k].td.i.a.get_text()\n",
    "    tempArr=[a,b]\n",
    "    arr.append(tempArr)\n",
    "finalArray=[]\n",
    "print(arr)\n",
    "print(item[9].td.i.a)"
   ]
  },
  {
   "cell_type": "code",
   "execution_count": 3,
   "metadata": {},
   "outputs": [
    {
     "name": "stdout",
     "output_type": "stream",
     "text": [
      "[['Bajrangi Bhaijaan', 'https://upload.wikimedia.org/wikipedia/en/thumb/d/dd/Bajrangi_Bhaijaan_Poster.jpg/220px-Bajrangi_Bhaijaan_Poster.jpg'], ['Dilwale', 'https://upload.wikimedia.org/wikipedia/en/thumb/d/df/Dilwale.jpg/220px-Dilwale.jpg'], ['Prem Ratan Dhan Payo', 'https://upload.wikimedia.org/wikipedia/en/thumb/b/b2/Prem_Ratan_Dhan_Payo_Release_Poster.jpg/235px-Prem_Ratan_Dhan_Payo_Release_Poster.jpg'], ['Bajirao Mastani', 'https://upload.wikimedia.org/wikipedia/en/thumb/c/c0/Bajirao_Mastani_poster.jpg/220px-Bajirao_Mastani_poster.jpg'], ['Tanu Weds Manu: Returns', 'https://upload.wikimedia.org/wikipedia/en/thumb/3/3f/Tanu_weds_Manu_poster.jpg/220px-Tanu_weds_Manu_poster.jpg'], ['Welcome Back', 'https://upload.wikimedia.org/wikipedia/en/thumb/f/f8/Welcome_Back_First_Look_Poster.jpg/220px-Welcome_Back_First_Look_Poster.jpg'], ['ABCD 2', 'https://upload.wikimedia.org/wikipedia/en/thumb/5/51/ABCD_2_poster.jpeg/220px-ABCD_2_poster.jpeg'], ['Dil Dhadakne Do', 'https://upload.wikimedia.org/wikipedia/en/thumb/d/d4/Dil_Dhadakne_Do_poster.jpg/220px-Dil_Dhadakne_Do_poster.jpg'], ['Baby', 'https://upload.wikimedia.org/wikipedia/en/thumb/d/da/BABY_poster_2015.jpg/220px-BABY_poster_2015.jpg'], ['Piku', 'https://upload.wikimedia.org/wikipedia/en/thumb/9/98/Piku.jpg/220px-Piku.jpg']]\n"
     ]
    }
   ],
   "source": [
    "for j in arr:\n",
    "    url2=j[0]\n",
    "    r=requests.get(url2)\n",
    "    s=bs4.BeautifulSoup(r.text,\"html.parser\")\n",
    "    item2=s.find(\"table\",{'class':'infobox'})\n",
    "    item2=item2.tbody\n",
    "    item2=item2.find_all('tr')\n",
    "    c=('https:'+item2[1].td.a.img['src'])\n",
    "    tempArr=[j[1],c]\n",
    "    finalArray.append(tempArr)\n",
    "print(finalArray)"
   ]
  },
  {
   "cell_type": "code",
   "execution_count": 4,
   "metadata": {},
   "outputs": [],
   "source": [
    "import numpy as np\n",
    "import pandas as pd"
   ]
  },
  {
   "cell_type": "code",
   "execution_count": 5,
   "metadata": {},
   "outputs": [],
   "source": [
    "a=np.array(finalArray)\n",
    "b=pd.DataFrame(a)"
   ]
  },
  {
   "cell_type": "code",
   "execution_count": 6,
   "metadata": {},
   "outputs": [],
   "source": [
    "##b.to_csv(r'D:\\PBL\\MoviesList.csv',mode='a',header=False)"
   ]
  },
  {
   "cell_type": "code",
   "execution_count": null,
   "metadata": {},
   "outputs": [],
   "source": []
  }
 ],
 "metadata": {
  "kernelspec": {
   "display_name": "Python 3",
   "language": "python",
   "name": "python3"
  },
  "language_info": {
   "codemirror_mode": {
    "name": "ipython",
    "version": 3
   },
   "file_extension": ".py",
   "mimetype": "text/x-python",
   "name": "python",
   "nbconvert_exporter": "python",
   "pygments_lexer": "ipython3",
   "version": "3.8.5"
  }
 },
 "nbformat": 4,
 "nbformat_minor": 4
}
